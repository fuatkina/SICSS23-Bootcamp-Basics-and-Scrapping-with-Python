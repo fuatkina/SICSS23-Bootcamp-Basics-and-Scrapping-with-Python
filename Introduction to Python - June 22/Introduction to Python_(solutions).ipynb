{
 "cells": [
  {
   "cell_type": "markdown",
   "metadata": {
    "id": "Nfo-V4Ho7vGG"
   },
   "source": [
    "# Introduction to Scientific Programming in Python - solutions"
   ]
  },
  {
   "cell_type": "markdown",
   "metadata": {
    "id": "Yu7Usgab1_xd"
   },
   "source": [
    "### Exercises (Lists)"
   ]
  },
  {
   "cell_type": "markdown",
   "metadata": {
    "id": "BRDoQ6SA2JKm"
   },
   "source": [
    "1- Write a Python program to sum all the items in a list."
   ]
  },
  {
   "cell_type": "code",
   "execution_count": 1,
   "metadata": {},
   "outputs": [
    {
     "data": {
      "text/plain": [
       "59"
      ]
     },
     "execution_count": 1,
     "metadata": {},
     "output_type": "execute_result"
    }
   ],
   "source": [
    "x=[1,2,3,18,35]\n",
    "\n",
    "sum(x)"
   ]
  },
  {
   "cell_type": "markdown",
   "metadata": {
    "id": "PfmzoSXB2NSZ"
   },
   "source": [
    "2- Write a Python program to get the largest and the smallest number from a list."
   ]
  },
  {
   "cell_type": "code",
   "execution_count": null,
   "metadata": {
    "colab": {
     "base_uri": "https://localhost:8080/"
    },
    "id": "nLpGz8_RxwOR",
    "outputId": "d268ffe0-5a7c-4d22-e0fe-c6bc035a3536"
   },
   "outputs": [
    {
     "name": "stdout",
     "output_type": "stream",
     "text": [
      "1\n",
      "35\n"
     ]
    }
   ],
   "source": [
    "print(min(x))\n",
    "print(max(x))"
   ]
  },
  {
   "cell_type": "markdown",
   "metadata": {
    "id": "5TegiVlX2jG0"
   },
   "source": [
    "3- Create a list of integer nember less than 10 and call it `a`. "
   ]
  },
  {
   "cell_type": "code",
   "execution_count": 9,
   "metadata": {},
   "outputs": [
    {
     "data": {
      "text/plain": [
       "[1, 2, 3, 4, 5, 6, 7, 8, 9]"
      ]
     },
     "execution_count": 9,
     "metadata": {},
     "output_type": "execute_result"
    }
   ],
   "source": [
    "a = [*range(1,10,1)]\n",
    "a"
   ]
  },
  {
   "cell_type": "markdown",
   "metadata": {
    "id": "V1w1nt7xtu10"
   },
   "source": [
    "### Exercises (dictionaries)"
   ]
  },
  {
   "cell_type": "markdown",
   "metadata": {
    "id": "R3XLrN_qvbGo"
   },
   "source": [
    "1- Use the `get` method to print the value of the \"name\" of the Movie dictionary."
   ]
  },
  {
   "cell_type": "code",
   "execution_count": null,
   "metadata": {
    "colab": {
     "base_uri": "https://localhost:8080/",
     "height": 35
    },
    "id": "nNZQtidr1qE5",
    "outputId": "c2fd9ca1-fa6a-429e-dd84-bd0fb91722da"
   },
   "outputs": [
    {
     "data": {
      "application/vnd.google.colaboratory.intrinsic+json": {
       "type": "string"
      },
      "text/plain": [
       "'Twin Peaks'"
      ]
     },
     "execution_count": 71,
     "metadata": {},
     "output_type": "execute_result"
    }
   ],
   "source": [
    "Movie.get(\"name\")"
   ]
  },
  {
   "cell_type": "markdown",
   "metadata": {
    "id": "lQ9reAAqvrAc"
   },
   "source": [
    "2- Change the year from 1990 to \"April 1990\"."
   ]
  },
  {
   "cell_type": "code",
   "execution_count": null,
   "metadata": {
    "colab": {
     "base_uri": "https://localhost:8080/"
    },
    "id": "NfL5jUhc2HcV",
    "outputId": "2919925f-7d75-4754-bfc6-10660280f226"
   },
   "outputs": [
    {
     "data": {
      "text/plain": [
       "{'director': 'David Lynch', 'name': 'Twin Peaks', 'year': 'April 1990'}"
      ]
     },
     "execution_count": 88,
     "metadata": {},
     "output_type": "execute_result"
    }
   ],
   "source": [
    "Movie.update({\"year\":\"April 1990\"})\n",
    "Movie"
   ]
  },
  {
   "cell_type": "markdown",
   "metadata": {
    "id": "9k2T5_2uvX1V"
   },
   "source": [
    "3- Add the key/value pair \"genre\" : \"mystery/drama/horror\" to the Movie dictionary."
   ]
  },
  {
   "cell_type": "code",
   "execution_count": null,
   "metadata": {
    "colab": {
     "base_uri": "https://localhost:8080/"
    },
    "id": "Q37fs5WH4VnE",
    "outputId": "aa5ffb66-e5d0-4daf-98a0-be1149fe4eca"
   },
   "outputs": [
    {
     "data": {
      "text/plain": [
       "{'director': 'David Lynch',\n",
       " 'genre': 'mystery/drama/horror',\n",
       " 'name': 'Twin Peaks',\n",
       " 'year': 'April 1990'}"
      ]
     },
     "execution_count": 90,
     "metadata": {},
     "output_type": "execute_result"
    }
   ],
   "source": [
    "Movie.update({\"genre\" : \"mystery/drama/horror\"})\n",
    "Movie"
   ]
  },
  {
   "cell_type": "markdown",
   "metadata": {
    "id": "pToyetRnxP62"
   },
   "source": [
    "4- Use the pop method to remove \"genre\" from the Movie dictionary and return it to the screen."
   ]
  },
  {
   "cell_type": "code",
   "execution_count": null,
   "metadata": {
    "colab": {
     "base_uri": "https://localhost:8080/"
    },
    "id": "4h4aEqtp4gCO",
    "outputId": "16c89e97-0f74-48a2-b694-d9d645d8a315"
   },
   "outputs": [
    {
     "data": {
      "text/plain": [
       "{'director': 'David Lynch', 'name': 'Twin Peaks', 'year': 'April 1990'}"
      ]
     },
     "execution_count": 93,
     "metadata": {},
     "output_type": "execute_result"
    }
   ],
   "source": [
    "Movie.pop(\"genre\")\n",
    "Movie"
   ]
  },
  {
   "cell_type": "markdown",
   "metadata": {
    "id": "BeNCUX1dSosD"
   },
   "source": [
    "### Exercises (If statement and Loops)"
   ]
  },
  {
   "cell_type": "markdown",
   "metadata": {
    "id": "zeraJ51oSosD"
   },
   "source": [
    "1- Write a Python program to count the number of even and odd numbers from a series of numbers.\n",
    "```\n",
    "sample_list = [2, 3, 4, 5, 8, 2, 9]\n",
    "```"
   ]
  },
  {
   "cell_type": "code",
   "execution_count": null,
   "metadata": {
    "colab": {
     "base_uri": "https://localhost:8080/"
    },
    "id": "O4DksbuykogD",
    "outputId": "c378cf22-d8e5-47cb-b254-c061b1acb256"
   },
   "outputs": [
    {
     "name": "stdout",
     "output_type": "stream",
     "text": [
      "4 3\n"
     ]
    }
   ],
   "source": [
    "sample_list = [2, 3, 4, 5, 8, 2, 9]\n",
    "\n",
    "odd=0\n",
    "even=0\n",
    "\n",
    "for i in sample_list:\n",
    "    if i%2 == 0:\n",
    "        even=even+1\n",
    "    else:\n",
    "        odd=odd+1\n",
    "\n",
    "print(even,odd)"
   ]
  },
  {
   "cell_type": "markdown",
   "metadata": {
    "id": "E6vNclhDSosD"
   },
   "source": [
    "2- Write a Python program to get the Fibonacci series between 0 to 50.\n",
    "\n",
    "hint: The Fibonacci Sequence is the series of numbers :\n",
    "0, 1, 1, 2, 3, 5, 8, 13, 21, .... \n",
    "Every next number is found by adding up the two numbers before it."
   ]
  },
  {
   "cell_type": "code",
   "execution_count": null,
   "metadata": {
    "colab": {
     "base_uri": "https://localhost:8080/"
    },
    "id": "PEagxbkwlbJK",
    "outputId": "115f2e70-bcde-4cd3-9bb1-c4b62ddfe39e"
   },
   "outputs": [
    {
     "name": "stdout",
     "output_type": "stream",
     "text": [
      "[0, 1, 1, 2, 3, 5, 8, 13, 21, 34, 55, 89, 144, 233, 377, 610, 987, 1597, 2584, 4181, 6765, 10946, 17711, 28657, 46368, 75025, 121393, 196418, 317811, 514229, 832040, 1346269, 2178309, 3524578, 5702887, 9227465, 14930352, 24157817, 39088169, 63245986, 102334155, 165580141, 267914296, 433494437, 701408733, 1134903170, 1836311903, 2971215073, 4807526976, 7778742049, 12586269025]\n"
     ]
    }
   ],
   "source": [
    "fib = [0,1,1]\n",
    "\n",
    "for i in range(2,50):\n",
    "    x=fib[i-1] #fib[48] \n",
    "    y=fib[i] #fib[49]\n",
    "    fib.append(x+y) #fib=[0,1,1,2,3,5]\n",
    "\n",
    "print(fib)"
   ]
  },
  {
   "cell_type": "markdown",
   "metadata": {},
   "source": [
    "3- Note these are the \"list\" exercises. Solve these, by using loops:\n",
    "\n",
    "3.a. Write a Python program to sum all the items in a list.\n",
    "\n",
    "3.b. Write a Python program to get the largest and the smallest number from a list.\n",
    "\n",
    "3.c. Create a list of integer nember less than 10 and call it `a`. "
   ]
  },
  {
   "cell_type": "code",
   "execution_count": null,
   "metadata": {},
   "outputs": [],
   "source": [
    "x=[1,2,3,18,35]\n",
    "sum=0\n",
    "\n",
    "for i in range(len(x)):\n",
    "    sum=x[i]+sum\n",
    "\n",
    "print(sum)"
   ]
  },
  {
   "cell_type": "code",
   "execution_count": 11,
   "metadata": {},
   "outputs": [
    {
     "name": "stdout",
     "output_type": "stream",
     "text": [
      "35\n"
     ]
    }
   ],
   "source": [
    "x=[1,2,3,18,35]\n",
    "maxim = x[0]\n",
    "\n",
    "for ele in x:\n",
    "    if ele>maxim:\n",
    "        maxim=ele\n",
    "    else:\n",
    "        continue\n",
    "\n",
    "print(maxim)"
   ]
  },
  {
   "cell_type": "code",
   "execution_count": null,
   "metadata": {},
   "outputs": [],
   "source": [
    "a=[]\n",
    "for i in range(10):\n",
    "      a.append(i)\n",
    "print(a)"
   ]
  },
  {
   "cell_type": "markdown",
   "metadata": {
    "id": "r3Ap7Iz3SosG"
   },
   "source": [
    "### Exercises (Functions)"
   ]
  },
  {
   "cell_type": "markdown",
   "metadata": {
    "id": "mFEwFGpNSosH"
   },
   "source": [
    "1- Write a Python function to find the Max of three numbers.\n",
    "\n",
    "hint: first write a function to find the Max of two number. Then use this function to find the Max of three numbers."
   ]
  },
  {
   "cell_type": "code",
   "execution_count": null,
   "metadata": {
    "colab": {
     "base_uri": "https://localhost:8080/"
    },
    "id": "VmNIcLVtKGVQ",
    "outputId": "d5934795-d9a4-428c-d5af-075c8801f7d9"
   },
   "outputs": [
    {
     "name": "stdout",
     "output_type": "stream",
     "text": [
      "10\n"
     ]
    }
   ],
   "source": [
    "def maxi(a,b,c):\n",
    "    return max(c,max(a,b))\n",
    "print(maxi(4,10,7))"
   ]
  },
  {
   "cell_type": "markdown",
   "metadata": {
    "id": "9KZS0W-bSosH"
   },
   "source": [
    "2- Write a Python function to multiply all the numbers in a list. Go to the editor\n",
    "\n",
    "hint: use a for loop\n",
    "```\n",
    "sample_list = [8, 2, 3, -1, 7]\n",
    "```\n"
   ]
  },
  {
   "cell_type": "code",
   "execution_count": 2,
   "metadata": {
    "colab": {
     "base_uri": "https://localhost:8080/"
    },
    "id": "b8VlSfYtLnZS",
    "outputId": "f9e0f846-4495-45ad-dcc3-c3e31200af4e"
   },
   "outputs": [
    {
     "name": "stdout",
     "output_type": "stream",
     "text": [
      "0\n"
     ]
    }
   ],
   "source": [
    "def multiplier(my_list):\n",
    "    \n",
    "    multi=1\n",
    "    \n",
    "    for i in sample_list:\n",
    "        multi=i*multi\n",
    "        \n",
    "    return multi\n",
    "    \n",
    "sample_list = [8, 2, 3, -1, 7, 0]\n",
    "print(multiplier(sample_list))"
   ]
  },
  {
   "cell_type": "markdown",
   "metadata": {
    "id": "Xy1PiQe6SosH"
   },
   "source": [
    "3- Write a Python function that takes a list and returns a new list with unique elements of the first list.\n",
    "\n",
    "hint: use for loop and if statement\n",
    "```\n",
    "sample_list : [1,1,3,3,3,3,4,4,4,5,7,7,7]\n",
    "unique_list : [1, 3, 4, 5, 7]\n",
    "```"
   ]
  },
  {
   "cell_type": "code",
   "execution_count": null,
   "metadata": {
    "colab": {
     "base_uri": "https://localhost:8080/"
    },
    "id": "VPFNRqHVMDyG",
    "outputId": "8b37bcea-4f89-4278-d280-67a7c96a44e9"
   },
   "outputs": [
    {
     "name": "stdout",
     "output_type": "stream",
     "text": [
      "[1, 3, 4, 5, 8, 7]\n"
     ]
    }
   ],
   "source": [
    "def unique(sample_list2):\n",
    "    unique_list=[]\n",
    "    dynamiclist = sample_list2.copy()\n",
    "\n",
    "    for i in sample_list2:\n",
    "        if dynamiclist.count(i)>1:\n",
    "            dynamiclist.remove(i)\n",
    "        else:\n",
    "            unique_list.append(i)\n",
    "\n",
    "    return unique_list\n",
    "\n",
    "sample_list3=[1,1,3,3,3,3,4,4,4,5,8,7,7,7]\n",
    "\n",
    "print(unique(sample_list3))"
   ]
  },
  {
   "cell_type": "markdown",
   "metadata": {
    "id": "oPvbS8GSSosH"
   },
   "source": [
    "4- Write a Python function that takes a number as a parameter and check the number is prime or not.\n",
    "\n",
    "hint: a prime number (or a prime) is a natural number greater than 1 and that has no positive divisors other than 1 and itself. "
   ]
  },
  {
   "cell_type": "code",
   "execution_count": 8,
   "metadata": {
    "colab": {
     "base_uri": "https://localhost:8080/"
    },
    "id": "mWz555mBQ3Zd",
    "outputId": "4a233417-da91-4834-fe95-fd05945660cc"
   },
   "outputs": [
    {
     "name": "stdout",
     "output_type": "stream",
     "text": [
      "true\n"
     ]
    }
   ],
   "source": [
    "def primenumber(x):\n",
    "    if x<=1:\n",
    "        is_prime=\"false\"\n",
    "    elif x==2:\n",
    "        is_prime=\"true\"\n",
    "    else:\n",
    "        for i in range(2,x):\n",
    "            if x%i==0:\n",
    "                is_prime=\"false\"\n",
    "                break\n",
    "            else:\n",
    "                is_prime=\"true\"\n",
    "    return is_prime\n",
    "\n",
    "print(primenumber(5))"
   ]
  },
  {
   "cell_type": "code",
   "execution_count": null,
   "metadata": {},
   "outputs": [],
   "source": []
  }
 ],
 "metadata": {
  "colab": {
   "collapsed_sections": [],
   "name": "Introduction to Python (previous version with solutions)",
   "provenance": []
  },
  "kernelspec": {
   "display_name": "Python 3 (ipykernel)",
   "language": "python",
   "name": "python3"
  },
  "language_info": {
   "codemirror_mode": {
    "name": "ipython",
    "version": 3
   },
   "file_extension": ".py",
   "mimetype": "text/x-python",
   "name": "python",
   "nbconvert_exporter": "python",
   "pygments_lexer": "ipython3",
   "version": "3.8.8"
  }
 },
 "nbformat": 4,
 "nbformat_minor": 4
}
