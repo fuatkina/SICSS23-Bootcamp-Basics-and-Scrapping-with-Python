{
 "cells": [
  {
   "cell_type": "markdown",
   "id": "13aa23bc-c442-483b-a1c7-d27f98fdc21c",
   "metadata": {},
   "source": [
    "# SICSS 2023 (Basics of Web Scraping)\n"
   ]
  },
  {
   "cell_type": "markdown",
   "id": "colored-provincial",
   "metadata": {},
   "source": [
    "## Scrapy - Extracting movie data from imdb\n",
    "\n",
    "\n",
    "###### Credits for https://app.datacamp.com/learn/courses/web-scraping-with-python"
   ]
  },
  {
   "cell_type": "code",
   "execution_count": null,
   "id": "coordinated-bowling",
   "metadata": {},
   "outputs": [],
   "source": [
    "#pip install scrapy"
   ]
  },
  {
   "cell_type": "code",
   "execution_count": null,
   "id": "bored-subscriber",
   "metadata": {},
   "outputs": [],
   "source": [
    "# Import a scrapy Selector\n",
    "from scrapy import Selector\n",
    "\n",
    "# Import requests\n",
    "import requests\n",
    "\n",
    "url = 'https://m.imdb.com/chart/top'\n",
    "\n",
    "# Create the string html containing the HTML source\n",
    "html = requests.get(url).content\n",
    "\n",
    "# Create the Selector object sel from html\n",
    "sel = Selector(text = html)\n",
    "\n",
    "# Print out the number of elements in the HTML document\n",
    "print( \"You have found: \", len(sel.xpath('//*')))"
   ]
  },
  {
   "cell_type": "code",
   "execution_count": null,
   "id": "unexpected-raising",
   "metadata": {},
   "outputs": [],
   "source": [
    "type(html)"
   ]
  },
  {
   "cell_type": "code",
   "execution_count": null,
   "id": "cathedral-thunder",
   "metadata": {},
   "outputs": [],
   "source": [
    "type(sel)"
   ]
  },
  {
   "cell_type": "code",
   "execution_count": null,
   "id": "respected-russian",
   "metadata": {},
   "outputs": [],
   "source": [
    "xpath_for_movienames ='//h4'"
   ]
  },
  {
   "cell_type": "code",
   "execution_count": null,
   "id": "purple-publicity",
   "metadata": {},
   "outputs": [],
   "source": [
    "sel.xpath(xpath_for_movienames).extract()"
   ]
  },
  {
   "cell_type": "code",
   "execution_count": null,
   "id": "possible-throat",
   "metadata": {},
   "outputs": [],
   "source": [
    "len(sel.xpath(xpath_for_movienames).extract())"
   ]
  },
  {
   "cell_type": "code",
   "execution_count": null,
   "id": "deluxe-lobby",
   "metadata": {},
   "outputs": [],
   "source": [
    "xpath_for_movienames ='//h4/text()'"
   ]
  },
  {
   "cell_type": "code",
   "execution_count": null,
   "id": "subject-mills",
   "metadata": {},
   "outputs": [],
   "source": [
    "movies = sel.xpath(xpath_for_movienames).extract()"
   ]
  },
  {
   "cell_type": "code",
   "execution_count": null,
   "id": "actual-legislature",
   "metadata": {},
   "outputs": [],
   "source": [
    "movies"
   ]
  },
  {
   "cell_type": "markdown",
   "id": "affecting-operation",
   "metadata": {},
   "source": [
    "#### Clean your text with strip"
   ]
  },
  {
   "cell_type": "code",
   "execution_count": null,
   "id": "selected-coordination",
   "metadata": {},
   "outputs": [],
   "source": [
    "movie_list=[]\n",
    "for string in movies:\n",
    "    cleaned_string = string.strip()\n",
    "    if cleaned_string != '':\n",
    "        movie_list.append(cleaned_string)\n",
    "    \n",
    "print(movie_list)"
   ]
  },
  {
   "cell_type": "markdown",
   "id": "sealed-stopping",
   "metadata": {},
   "source": [
    "#### A brief break: How does strip function work?"
   ]
  },
  {
   "cell_type": "code",
   "execution_count": null,
   "id": "featured-northern",
   "metadata": {},
   "outputs": [],
   "source": [
    "string = '  xoxo love xoxo   '\n",
    "\n",
    "# Leading and trailing whitespaces are removed\n",
    "print(string.strip())\n",
    "\n",
    "# All <whitespace>,x,o,e characters in the left\n",
    "# and right of string are removed\n",
    "print(string.strip(' xoe'))\n",
    "\n",
    "# Argument doesn't contain space\n",
    "# No characters are removed.\n",
    "print(string.strip('stx'))\n",
    "\n",
    "string = 'android is awesome'\n",
    "print(string.strip('an'))"
   ]
  },
  {
   "cell_type": "code",
   "execution_count": null,
   "id": "spiritual-exhibition",
   "metadata": {},
   "outputs": [],
   "source": [
    "len(movie_list)"
   ]
  },
  {
   "cell_type": "markdown",
   "id": "solid-boards",
   "metadata": {},
   "source": [
    "#### Extracting the order and year of movies"
   ]
  },
  {
   "cell_type": "code",
   "execution_count": null,
   "id": "creative-rachel",
   "metadata": {},
   "outputs": [],
   "source": [
    "xpath_for_movieorder ='//h4/span[1]/text()'\n",
    "movie_order = sel.xpath(xpath_for_movieorder).extract()"
   ]
  },
  {
   "cell_type": "code",
   "execution_count": null,
   "id": "sealed-concert",
   "metadata": {},
   "outputs": [],
   "source": [
    "xpath_for_moviedates ='//h4/span[2]/text()'\n",
    "movie_date = sel.xpath(xpath_for_moviedates).extract()"
   ]
  },
  {
   "cell_type": "markdown",
   "id": "removable-tribune",
   "metadata": {},
   "source": [
    "##### Copied Xpaths for the first four movies:\n",
    "\n",
    "//*[@id=\"chart-content\"]/div[1]/div[1]/div/a\n",
    "\n",
    "//*[@id=\"chart-content\"]/div[1]/div[2]/div/a\n",
    "\n",
    "//*[@id=\"chart-content\"]/div[2]/div[1]/div/a\n",
    "\n",
    "//*[@id=\"chart-content\"]/div[2]/div[2]/div/a\n",
    "\n",
    "…\n"
   ]
  },
  {
   "cell_type": "markdown",
   "id": "coated-medicaid",
   "metadata": {},
   "source": [
    "#### Movie links"
   ]
  },
  {
   "cell_type": "code",
   "execution_count": null,
   "id": "adjusted-cattle",
   "metadata": {},
   "outputs": [],
   "source": [
    "xpath_for_movielink = '//*[@id=\"chart-content\"]/div/div/div/a/@href'\n",
    "movie_link = sel.xpath(xpath_for_movielink).extract()"
   ]
  },
  {
   "cell_type": "code",
   "execution_count": null,
   "id": "measured-cliff",
   "metadata": {},
   "outputs": [],
   "source": [
    "len(movie_link)"
   ]
  },
  {
   "cell_type": "code",
   "execution_count": null,
   "id": "indoor-instrumentation",
   "metadata": {},
   "outputs": [],
   "source": [
    "movie_link"
   ]
  },
  {
   "cell_type": "markdown",
   "id": "endless-belfast",
   "metadata": {},
   "source": [
    "Shared objects are partial, let's figure this our"
   ]
  },
  {
   "cell_type": "code",
   "execution_count": null,
   "id": "geographic-seating",
   "metadata": {},
   "outputs": [],
   "source": [
    "first_part_url = 'https://m.imdb.com'\n",
    "last_part_url = '?pf_rd_m=A2FGELUUNOQJNL&pf_rd_p=df09bbba-7a44-41c0-bc85-426ba05a5574&pf_rd_r=R9N3Q0473JZET8YH4S2A&pf_rd_s=top-1&pf_rd_t=15506&pf_rd_i=top&ref_=m_chttp_tt_1'"
   ]
  },
  {
   "cell_type": "code",
   "execution_count": null,
   "id": "collective-france",
   "metadata": {},
   "outputs": [],
   "source": [
    "movie_link_merged = []\n",
    "\n",
    "for i in movie_link:\n",
    "    link = first_part_url + i + last_part_url\n",
    "    movie_link_merged.append(link)"
   ]
  },
  {
   "cell_type": "code",
   "execution_count": null,
   "id": "improving-demand",
   "metadata": {},
   "outputs": [],
   "source": [
    "len(movie_link_merged)"
   ]
  },
  {
   "cell_type": "markdown",
   "id": "amazing-secret",
   "metadata": {},
   "source": [
    "#### Let's store what we downloaded"
   ]
  },
  {
   "cell_type": "code",
   "execution_count": null,
   "id": "running-worker",
   "metadata": {},
   "outputs": [],
   "source": [
    "dictimdb = {'movie_order':movie_order, 'movie_date':movie_date, 'movie_list':movie_list, 'movie_link_merged': movie_link_merged}"
   ]
  },
  {
   "cell_type": "code",
   "execution_count": null,
   "id": "2f0c6f53-e83a-4097-8230-b16a738d1329",
   "metadata": {},
   "outputs": [],
   "source": [
    "import pandas as pd"
   ]
  },
  {
   "cell_type": "code",
   "execution_count": null,
   "id": "alpha-steam",
   "metadata": {},
   "outputs": [],
   "source": [
    "data_imdb = pd.DataFrame(dictimdb)"
   ]
  },
  {
   "cell_type": "code",
   "execution_count": null,
   "id": "14c53c09-158a-446e-a387-937f117b0c15",
   "metadata": {},
   "outputs": [],
   "source": [
    "data_imdb"
   ]
  },
  {
   "cell_type": "code",
   "execution_count": null,
   "id": "international-messaging",
   "metadata": {},
   "outputs": [],
   "source": [
    "data_imdb['movie_link_merged'][0]"
   ]
  },
  {
   "cell_type": "markdown",
   "id": "aerial-depression",
   "metadata": {},
   "source": [
    "#### Can we go further?\n",
    "\n",
    "Let's find out players of these famous movies:\n"
   ]
  },
  {
   "cell_type": "code",
   "execution_count": null,
   "id": "municipal-shape",
   "metadata": {},
   "outputs": [],
   "source": [
    "url = data_imdb['movie_link_merged'][1]"
   ]
  },
  {
   "cell_type": "code",
   "execution_count": null,
   "id": "burning-street",
   "metadata": {},
   "outputs": [],
   "source": [
    "html = requests.get(url).content\n",
    "\n",
    "sel = Selector(text = html)\n",
    "\n",
    "print( \"You have found: \", len(sel.xpath('//*')))"
   ]
  },
  {
   "cell_type": "markdown",
   "id": "massive-farmer",
   "metadata": {},
   "source": [
    "##### Copied Xpaths for the first four players:\n",
    "\n",
    "//*[@id=\"__next\"]/main/div/section[1]/div/section/div/div[1]/section[4]/div[2]/div[2]/div[1]/div[2]/a\n",
    "\n",
    "//*[@id=\"__next\"]/main/div/section[1]/div/section/div/div[1]/section[4]/div[2]/div[2]/div[2]/div[2]/a\n",
    "\n",
    "//*[@id=\"__next\"]/main/div/section[1]/div/section/div/div[1]/section[4]/div[2]/div[2]/div[3]/div[2]/a\n",
    "\n",
    "//*[@id=\"__next\"]/main/div/section[1]/div/section/div/div[1]/section[4]/div[2]/div[2]/div[4]/div[2]/a\n"
   ]
  },
  {
   "cell_type": "code",
   "execution_count": null,
   "id": "designing-arkansas",
   "metadata": {},
   "outputs": [],
   "source": [
    "xpath_for_movieplayers ='//*[@id=\"__next\"]/main/div/section[1]/div/section/div/div[1]/section[4]/div[2]/div[2]/div/div[2]/a/text()'\n",
    "movie_players_first_movie = sel.xpath(xpath_for_movieplayers).extract()"
   ]
  },
  {
   "cell_type": "code",
   "execution_count": null,
   "id": "interesting-daughter",
   "metadata": {},
   "outputs": [],
   "source": [
    "movie_players_first_movie"
   ]
  },
  {
   "cell_type": "code",
   "execution_count": null,
   "id": "failing-draft",
   "metadata": {},
   "outputs": [],
   "source": [
    "players_list=[]"
   ]
  },
  {
   "cell_type": "code",
   "execution_count": null,
   "id": "random-stuff",
   "metadata": {},
   "outputs": [],
   "source": [
    "for i in range(3):\n",
    "    url = data_imdb['movie_link_merged'][i]\n",
    "    html = requests.get(url).content\n",
    "    sel = Selector(text = html)\n",
    "    movie_players = sel.xpath(xpath_for_movieplayers).extract()\n",
    "    players_list.append(movie_players)"
   ]
  },
  {
   "cell_type": "code",
   "execution_count": null,
   "id": "objective-script",
   "metadata": {},
   "outputs": [],
   "source": [
    "players_list[1]"
   ]
  },
  {
   "cell_type": "markdown",
   "id": "a5d8d034-c8a3-4d4b-83f5-55f9ff4a0f06",
   "metadata": {},
   "source": [
    "## Spider"
   ]
  },
  {
   "cell_type": "markdown",
   "id": "90799052-9550-4c56-91e9-5fc4cbebc2b2",
   "metadata": {},
   "source": [
    "Spider works faster when we want to download a large number of pages. Let's take a brief look at the objects we call classes. Being an object-oriented programming language, nearly everything in Python is designed as a class. The class is a very important tool for programming in that it can create instances from itself and run nested functions. Various properties and methods can be assigned to classes."
   ]
  },
  {
   "cell_type": "markdown",
   "id": "273610ca-ef67-4887-8a6e-c0b4a1a0e189",
   "metadata": {},
   "source": [
    "#### How does it work?\n",
    "\n",
    "In the code below you can define a class named IMDB_Spider. This class runs the Spider method of the scrapy library. The ``start_requests`` function in the content serves to start the process first. At this stage, you can define the first page from which the download will start. Then, make the necessary intervention on the ``self`` parameter that will be modified throughout the class and introduced from the function to the function, and pass to the next function (```parse_front````).\n",
    "\n",
    "With the ```parse_front``` function, you can now define, open and store your Xpaths to be used in certain lists. At this stage, create your links that you want to progress. You can move these links to the next function using the command below.\n",
    "\n",
    "```yield response.follow(url = url, callback = self.parse_pages)```\n",
    "\n",
    "Now you have come to the ``parse_pages`` function. This function will perform the action you specified for each URL that you created and forwarded in the previous step. So you can define an Xpath again and mark the data you want to pull. Then leave the class by keeping the downloaded data.\n",
    "\n",
    "In order to run the class you have defined, you need to call it:\n",
    "\n",
    "\n",
    "```process = CrawlerProcess()```\n",
    "\n",
    "```process.crawl(IMDB_Spider)```\n",
    "\n",
    "```process.start()```\n",
    "\n",
    "Don't forget to define empty lists before doing this because you will be writing your downloaded data into these empty lists."
   ]
  },
  {
   "cell_type": "code",
   "execution_count": null,
   "id": "ac5735dc-7b9d-4d70-ac41-b34dd25b98ee",
   "metadata": {},
   "outputs": [],
   "source": [
    "import scrapy\n",
    "from scrapy.crawler import CrawlerProcess\n",
    "\n",
    "class IMDB_Spider(scrapy.Spider):\n",
    "    name = \"IMDB_Spider\"\n",
    "\n",
    "    def start_requests(self):\n",
    "        yield scrapy.Request(url = 'https://m.imdb.com/chart/top', callback = self.parse_front)\n",
    "\n",
    "    def parse_front(self, response):\n",
    "        \n",
    "        movie_names = response.xpath('//h4/text()').extract()\n",
    "        for item in movie_names:\n",
    "            cleaned_string = item.strip()\n",
    "            if cleaned_string != '':\n",
    "                movie_list.append(cleaned_string)\n",
    "        \n",
    "        movie_years = response.xpath('//h4/span[2]/text()').extract()\n",
    "        for item in movie_years:\n",
    "                years.append(item)\n",
    "\n",
    "        movie_links = response.xpath('//*[@id=\"chart-content\"]/div/div/div/a/@href').extract()\n",
    "        for item in movie_links:\n",
    "            first_part_url = 'https://m.imdb.com'\n",
    "            last_part_url = '?pf_rd_m=A2FGELUUNOQJNL&pf_rd_p=df09bbba-7a44-41c0-bc85-426ba05a5574&pf_rd_r=R9N3Q0473JZET8YH4S2A&pf_rd_s=top-1&pf_rd_t=15506&pf_rd_i=top&ref_=m_chttp_tt_1'\n",
    "            url = first_part_url + item + last_part_url\n",
    "            links.append(url)\n",
    "            yield response.follow(url = url,  callback = self.parse_pages)\n",
    "            \n",
    "    def parse_pages(self, response):\n",
    "        movie_players = response.xpath('//*[@id=\"__next\"]/main/div/section[1]/div/section/div/div[1]/section[4]/div[2]/div[2]/div/div[2]/a/text()').extract()\n",
    "        players_list.append(movie_players)\n",
    "\n",
    "\n",
    "movie_list = []\n",
    "years = []\n",
    "links = []\n",
    "players_list = []\n",
    "\n",
    "process = CrawlerProcess()\n",
    "process.crawl(IMDB_Spider)\n",
    "process.start()"
   ]
  },
  {
   "cell_type": "markdown",
   "id": "11ea957c-009b-4817-b993-4dde20e2d6dd",
   "metadata": {},
   "source": [
    "### Display first five lines"
   ]
  },
  {
   "cell_type": "code",
   "execution_count": null,
   "id": "2e680045-1fce-4cd3-b030-a7e4af06ca63",
   "metadata": {},
   "outputs": [],
   "source": [
    "links[0:5]"
   ]
  },
  {
   "cell_type": "code",
   "execution_count": null,
   "id": "012288cb-0a5b-41a6-83ca-f2d04e1aec19",
   "metadata": {},
   "outputs": [],
   "source": [
    "years[0:2]"
   ]
  },
  {
   "cell_type": "code",
   "execution_count": null,
   "id": "a36908ba-9409-46e7-8be2-293268dee503",
   "metadata": {},
   "outputs": [],
   "source": [
    "movie_list[0:2]"
   ]
  },
  {
   "cell_type": "code",
   "execution_count": null,
   "id": "efdd9d8f-5846-47f9-88b0-307644307492",
   "metadata": {},
   "outputs": [],
   "source": [
    "players_list[0:2]"
   ]
  },
  {
   "cell_type": "markdown",
   "id": "2eef68ab-624c-44c3-929d-b9d38b7cbff4",
   "metadata": {},
   "source": [
    "### First dataframe, then csv or json\n",
    "\n",
    "Convert your data into a dictionary, then into a pandas DataFrame."
   ]
  },
  {
   "cell_type": "code",
   "execution_count": null,
   "id": "e76531ec-d4cd-4263-a33f-e4e8ff6519cb",
   "metadata": {},
   "outputs": [],
   "source": [
    "import pandas as pd\n",
    "\n",
    "dictimdb = {'movie name':movie_list, 'year':years, 'link':links, 'player_list': players_list}\n",
    "data_imdb = pd.DataFrame(dictimdb)"
   ]
  },
  {
   "cell_type": "code",
   "execution_count": null,
   "id": "556de506-beec-4351-b359-7bbba5798fa5",
   "metadata": {},
   "outputs": [],
   "source": [
    "data_imdb"
   ]
  },
  {
   "cell_type": "code",
   "execution_count": null,
   "id": "d479bbd8-18f1-4297-961c-56fdb5ee5bf5",
   "metadata": {},
   "outputs": [],
   "source": [
    "data_imdb['player_list'][56]"
   ]
  },
  {
   "cell_type": "markdown",
   "id": "514ac3a1-26c2-43c5-938f-7024fe646410",
   "metadata": {},
   "source": [
    "Now you can save the relevant data to your computer as a csv or json file."
   ]
  },
  {
   "cell_type": "code",
   "execution_count": null,
   "id": "0647c000-a274-40eb-9292-1414da4ea665",
   "metadata": {},
   "outputs": [],
   "source": [
    "data_imdb.to_csv(\"IMDB_Filmlerim.csv\")\n",
    "data_imdb.to_json(\"IMDB_Filmlerim.json\")"
   ]
  }
 ],
 "metadata": {
  "kernelspec": {
   "display_name": "Python 3 (ipykernel)",
   "language": "python",
   "name": "python3"
  },
  "language_info": {
   "codemirror_mode": {
    "name": "ipython",
    "version": 3
   },
   "file_extension": ".py",
   "mimetype": "text/x-python",
   "name": "python",
   "nbconvert_exporter": "python",
   "pygments_lexer": "ipython3",
   "version": "3.8.8"
  }
 },
 "nbformat": 4,
 "nbformat_minor": 5
}
